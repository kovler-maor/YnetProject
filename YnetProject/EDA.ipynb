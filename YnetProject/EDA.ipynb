{
 "cells": [
  {
   "cell_type": "code",
   "execution_count": 7,
   "id": "5bddf554",
   "metadata": {},
   "outputs": [
    {
     "name": "stdout",
     "output_type": "stream",
     "text": [
      "{'Article': 'KARACHI: The Sindh government has decided to bring down public transport fares by 7 per cent due to massive reduction in petroleum product prices by the federal government, Geo News reported.Sources said reduction in fares will be applicable on public transport, rickshaw, taxi and other means of traveling.Meanwhile, Karachi Transport Ittehad (KTI) has refused to abide by the government decision.KTI President Irshad Bukhari said the commuters are charged the lowest fares in Karachi as compare to other parts of the country, adding that 80pc vehicles run on Compressed Natural Gas (CNG). Bukhari said Karachi transporters will cut fares when decrease in CNG prices will be made.                        \\r\\n\\r\\n\\r\\n\\r\\n\\r\\n\\r\\n\\r\\n\\r\\n\\r\\n\\r\\n\\r\\n', 'Date': '1/1/2015', 'Heading': 'sindh govt decides to cut public transport fares by 7pc kti rej', 'NewsType': 'business'}\n"
     ]
    }
   ],
   "source": [
    "import csv\n",
    "\n",
    "def read_csv_to_dict(file_path):\n",
    "    data = {}\n",
    "    try:\n",
    "        with open(file_path, mode='r', newline='', encoding='utf-8') as file:\n",
    "            csv_reader = csv.DictReader(file)\n",
    "            for index, row in enumerate(csv_reader):\n",
    "                data[index] = row\n",
    "    except UnicodeDecodeError:\n",
    "        with open(file_path, mode='r', newline='', encoding='latin1') as file:\n",
    "            csv_reader = csv.DictReader(file)\n",
    "            for index, row in enumerate(csv_reader):\n",
    "                data[index] = row\n",
    "    return data\n",
    "\n",
    "# Path to your CSV file\n",
    "file_path = 'Articles.csv'\n",
    "articles_dict = read_csv_to_dict(file_path)\n",
    "\n",
    "# Printing the first row to verify the contents\n",
    "print(articles_dict[0])  # Use integer key instead of string\n"
   ]
  },
  {
   "cell_type": "code",
   "execution_count": null,
   "id": "749c86b2",
   "metadata": {},
   "outputs": [],
   "source": [
    "articles_dict[0].key"
   ]
  },
  {
   "cell_type": "code",
   "execution_count": 9,
   "id": "f8e8ca7d",
   "metadata": {},
   "outputs": [
    {
     "data": {
      "text/plain": [
       "'KARACHI: The Sindh government has decided to bring down public transport fares by 7 per cent due to massive reduction in petroleum product prices by the federal government, Geo News reported.Sources said reduction in fares will be applicable on public transport, rickshaw, taxi and other means of traveling.Meanwhile, Karachi Transport Ittehad (KTI) has refused to abide by the government decision.KTI President Irshad Bukhari said the commuters are charged the lowest fares in Karachi as compare to other parts of the country, adding that 80pc vehicles run on Compressed Natural Gas (CNG). Bukhari said Karachi transporters will cut fares when decrease in CNG prices will be made.                        \\r\\n\\r\\n\\r\\n\\r\\n\\r\\n\\r\\n\\r\\n\\r\\n\\r\\n\\r\\n\\r\\n'"
      ]
     },
     "execution_count": 9,
     "metadata": {},
     "output_type": "execute_result"
    }
   ],
   "source": [
    "articles_dict[0]['Article']"
   ]
  }
 ],
 "metadata": {
  "kernelspec": {
   "display_name": "Python 3",
   "language": "python",
   "name": "python3"
  },
  "language_info": {
   "codemirror_mode": {
    "name": "ipython",
    "version": 3
   },
   "file_extension": ".py",
   "mimetype": "text/x-python",
   "name": "python",
   "nbconvert_exporter": "python",
   "pygments_lexer": "ipython3",
   "version": "3.8.3"
  }
 },
 "nbformat": 4,
 "nbformat_minor": 5
}
